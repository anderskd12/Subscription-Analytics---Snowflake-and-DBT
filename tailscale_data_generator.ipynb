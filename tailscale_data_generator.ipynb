{
 "cells": [
  {
   "cell_type": "code",
   "execution_count": 1,
   "id": "138c81f9",
   "metadata": {},
   "outputs": [],
   "source": [
    "import pandas as pd\n",
    "import numpy as np\n",
    "from datetime import datetime, timedelta\n",
    "import random\n",
    "import uuid\n",
    "from faker import Faker\n",
    "import json"
   ]
  },
  {
   "cell_type": "code",
   "execution_count": 44,
   "id": "a85594c9",
   "metadata": {},
   "outputs": [
    {
     "data": {
      "text/plain": [
       "'C:\\\\Users\\\\ander\\\\learn_dbt'"
      ]
     },
     "execution_count": 44,
     "metadata": {},
     "output_type": "execute_result"
    }
   ],
   "source": [
    "import os\n",
    "os.path.abspath(\"\")"
   ]
  },
  {
   "cell_type": "code",
   "execution_count": 2,
   "id": "7f6b6d2c",
   "metadata": {},
   "outputs": [],
   "source": [
    "# Set random seed for reproducibility\n",
    "random.seed(42)\n",
    "np.random.seed(42)\n",
    "fake = Faker()\n",
    "Faker.seed(42)"
   ]
  },
  {
   "cell_type": "code",
   "execution_count": 3,
   "id": "3c8a726c",
   "metadata": {},
   "outputs": [],
   "source": [
    "# Configuration\n",
    "START_DATE = datetime(2024, 1, 1)\n",
    "END_DATE = datetime(2024, 12, 31)\n",
    "\n",
    "START_DATE = START_DATE.date()\n",
    "END_DATE = END_DATE.date()\n",
    "\n",
    "NUM_CUSTOMERS = 1000\n",
    "NUM_SUBSCRIPTIONS = 1200  # Some customers have multiple subscriptions"
   ]
  },
  {
   "cell_type": "code",
   "execution_count": 4,
   "id": "43178694",
   "metadata": {},
   "outputs": [
    {
     "name": "stdout",
     "output_type": "stream",
     "text": [
      "Generating Tailscale Analytics Test Dataset...\n",
      "==================================================\n"
     ]
    }
   ],
   "source": [
    "print(\"Generating Tailscale Analytics Test Dataset...\")\n",
    "print(\"=\" * 50)"
   ]
  },
  {
   "cell_type": "code",
   "execution_count": 5,
   "id": "4d54ac32",
   "metadata": {},
   "outputs": [
    {
     "name": "stdout",
     "output_type": "stream",
     "text": [
      "Generating customers data...\n"
     ]
    }
   ],
   "source": [
    "# 1. CUSTOMERS TABLE\n",
    "print(\"Generating customers data...\")\n",
    "customers = []\n",
    "company_types = ['Startup', 'SMB', 'Mid-Market', 'Enterprise']\n",
    "industries = ['Technology', 'Healthcare', 'Finance', 'Manufacturing', 'Education', 'Retail', 'Media']\n",
    "acquisition_channels = ['Organic', 'Paid Search', 'Content Marketing', 'Referral', 'Direct Sales', 'Partner']"
   ]
  },
  {
   "cell_type": "code",
   "execution_count": 6,
   "id": "f8dac3e0",
   "metadata": {},
   "outputs": [],
   "source": [
    "for i in range(NUM_CUSTOMERS):\n",
    "    customer = {\n",
    "        'customer_id': f\"cust_{str(uuid.uuid4())[:8]}\",\n",
    "        'company_name': fake.company(),\n",
    "        'company_size': random.choice(['1-10', '11-50', '51-200', '201-1000', '1000+']),\n",
    "        'company_type': random.choice(company_types),\n",
    "        'industry': random.choice(industries),\n",
    "        'country': fake.country_code(),\n",
    "        'created_at': fake.date_between(START_DATE, END_DATE),\n",
    "        'acquisition_channel': random.choice(acquisition_channels),\n",
    "        'is_active': random.choices([True, False], weights=[0.85, 0.15])[0]\n",
    "    }\n",
    "    customers.append(customer)"
   ]
  },
  {
   "cell_type": "code",
   "execution_count": 7,
   "id": "05365695",
   "metadata": {},
   "outputs": [],
   "source": [
    "customers_df = pd.DataFrame(customers)"
   ]
  },
  {
   "cell_type": "code",
   "execution_count": null,
   "id": "42b8253d",
   "metadata": {},
   "outputs": [],
   "source": []
  },
  {
   "cell_type": "code",
   "execution_count": 8,
   "id": "90ecc8e4",
   "metadata": {},
   "outputs": [
    {
     "name": "stdout",
     "output_type": "stream",
     "text": [
      "Generating subscription plans...\n"
     ]
    }
   ],
   "source": [
    "# 2. SUBSCRIPTION PLANS\n",
    "print(\"Generating subscription plans...\")\n",
    "plans = [\n",
    "    {'plan_id': 'personal', 'plan_name': 'Personal', 'price_monthly': 0, 'price_annual': 0, 'max_devices': 20},\n",
    "    {'plan_id': 'premium', 'plan_name': 'Premium', 'price_monthly': 6, 'price_annual': 60, 'max_devices': 100},\n",
    "    {'plan_id': 'team', 'plan_name': 'Team', 'price_monthly': 6, 'price_annual': 60, 'max_devices': 100},  # per user\n",
    "    {'plan_id': 'business', 'plan_name': 'Business', 'price_monthly': 18, 'price_annual': 180, 'max_devices': 200},  # per user\n",
    "    {'plan_id': 'enterprise', 'plan_name': 'Enterprise', 'price_monthly': 48, 'price_annual': 480, 'max_devices': 1000}  # per user\n",
    "]"
   ]
  },
  {
   "cell_type": "code",
   "execution_count": 9,
   "id": "53940066",
   "metadata": {},
   "outputs": [],
   "source": [
    "plans_df = pd.DataFrame(plans)"
   ]
  },
  {
   "cell_type": "code",
   "execution_count": null,
   "id": "1bc911ae",
   "metadata": {},
   "outputs": [],
   "source": []
  },
  {
   "cell_type": "code",
   "execution_count": 10,
   "id": "48d39657",
   "metadata": {},
   "outputs": [
    {
     "name": "stdout",
     "output_type": "stream",
     "text": [
      "Generating subscriptions data...\n"
     ]
    }
   ],
   "source": [
    "# 3. SUBSCRIPTIONS\n",
    "print(\"Generating subscriptions data...\")\n",
    "subscriptions = []\n",
    "billing_cycles = ['monthly', 'annual']"
   ]
  },
  {
   "cell_type": "code",
   "execution_count": 11,
   "id": "c958f4e1",
   "metadata": {},
   "outputs": [],
   "source": [
    "for i in range(NUM_SUBSCRIPTIONS):\n",
    "    customer_id = random.choice(customers_df['customer_id'].tolist())\n",
    "    plan = random.choice(plans)\n",
    "    billing_cycle = random.choice(billing_cycles)\n",
    "    \n",
    "    # Weight plan selection based on company size\n",
    "    customer_size = customers_df[customers_df['customer_id'] == customer_id]['company_size'].iloc[0]\n",
    "    if customer_size in ['1-10']:\n",
    "        plan = random.choices(plans, weights=[0.4, 0.3, 0.2, 0.08, 0.02])[0]\n",
    "    elif customer_size in ['11-50']:\n",
    "        plan = random.choices(plans, weights=[0.1, 0.2, 0.4, 0.25, 0.05])[0]\n",
    "    elif customer_size in ['51-200']:\n",
    "        plan = random.choices(plans, weights=[0.05, 0.1, 0.3, 0.4, 0.15])[0]\n",
    "    else:\n",
    "        plan = random.choices(plans, weights=[0.02, 0.05, 0.2, 0.4, 0.33])[0]\n",
    "    \n",
    "    start_date = fake.date_between(START_DATE, END_DATE - timedelta(days=30))\n",
    "    \n",
    "    # Determine if subscription is still active\n",
    "    is_churned = random.choices([True, False], weights=[0.2, 0.8])[0]\n",
    "    if is_churned:\n",
    "        end_date = fake.date_between(start_date + timedelta(days=30), END_DATE)\n",
    "        status = 'churned'\n",
    "    else:\n",
    "        end_date = None\n",
    "        status = 'active'\n",
    "    \n",
    "    # User count for team/business/enterprise plans\n",
    "    if plan['plan_id'] in ['team', 'business', 'enterprise']:\n",
    "        if customer_size == '1-10':\n",
    "            user_count = random.randint(2, 8)\n",
    "        elif customer_size == '11-50':\n",
    "            user_count = random.randint(5, 35)\n",
    "        elif customer_size == '51-200':\n",
    "            user_count = random.randint(20, 150)\n",
    "        elif customer_size == '201-1000':\n",
    "            user_count = random.randint(50, 500)\n",
    "        else:\n",
    "            user_count = random.randint(100, 2000)\n",
    "    else:\n",
    "        user_count = 1\n",
    "    \n",
    "    subscription = {\n",
    "        'subscription_id': f\"sub_{str(uuid.uuid4())[:8]}\",\n",
    "        'customer_id': customer_id,\n",
    "        'plan_id': plan['plan_id'],\n",
    "        'billing_cycle': billing_cycle,\n",
    "        'user_count': user_count,\n",
    "        'start_date': start_date,\n",
    "        'end_date': end_date,\n",
    "        'status': status,\n",
    "        'created_at': start_date,\n",
    "        'updated_at': fake.date_between(start_date, END_DATE)\n",
    "    }\n",
    "    subscriptions.append(subscription)"
   ]
  },
  {
   "cell_type": "code",
   "execution_count": 12,
   "id": "0bd52fdd",
   "metadata": {},
   "outputs": [],
   "source": [
    "subscriptions_df = pd.DataFrame(subscriptions)"
   ]
  },
  {
   "cell_type": "code",
   "execution_count": 13,
   "id": "e5aae37f",
   "metadata": {},
   "outputs": [
    {
     "data": {
      "text/plain": [
       "subscription_id    object\n",
       "customer_id        object\n",
       "plan_id            object\n",
       "billing_cycle      object\n",
       "user_count          int64\n",
       "start_date         object\n",
       "end_date           object\n",
       "status             object\n",
       "created_at         object\n",
       "updated_at         object\n",
       "dtype: object"
      ]
     },
     "execution_count": 13,
     "metadata": {},
     "output_type": "execute_result"
    }
   ],
   "source": [
    "subscriptions_df.dtypes"
   ]
  },
  {
   "cell_type": "code",
   "execution_count": 14,
   "id": "c4df4e6f",
   "metadata": {},
   "outputs": [
    {
     "data": {
      "text/html": [
       "<div>\n",
       "<style scoped>\n",
       "    .dataframe tbody tr th:only-of-type {\n",
       "        vertical-align: middle;\n",
       "    }\n",
       "\n",
       "    .dataframe tbody tr th {\n",
       "        vertical-align: top;\n",
       "    }\n",
       "\n",
       "    .dataframe thead th {\n",
       "        text-align: right;\n",
       "    }\n",
       "</style>\n",
       "<table border=\"1\" class=\"dataframe\">\n",
       "  <thead>\n",
       "    <tr style=\"text-align: right;\">\n",
       "      <th></th>\n",
       "      <th>subscription_id</th>\n",
       "      <th>customer_id</th>\n",
       "      <th>plan_id</th>\n",
       "      <th>billing_cycle</th>\n",
       "      <th>user_count</th>\n",
       "      <th>start_date</th>\n",
       "      <th>end_date</th>\n",
       "      <th>status</th>\n",
       "      <th>created_at</th>\n",
       "      <th>updated_at</th>\n",
       "    </tr>\n",
       "  </thead>\n",
       "  <tbody>\n",
       "    <tr>\n",
       "      <th>0</th>\n",
       "      <td>sub_83cefbca</td>\n",
       "      <td>cust_3f380b72</td>\n",
       "      <td>business</td>\n",
       "      <td>annual</td>\n",
       "      <td>915</td>\n",
       "      <td>2024-07-27</td>\n",
       "      <td>None</td>\n",
       "      <td>active</td>\n",
       "      <td>2024-07-27</td>\n",
       "      <td>2024-12-28</td>\n",
       "    </tr>\n",
       "    <tr>\n",
       "      <th>1</th>\n",
       "      <td>sub_bc8e8bfd</td>\n",
       "      <td>cust_78e35adb</td>\n",
       "      <td>enterprise</td>\n",
       "      <td>monthly</td>\n",
       "      <td>408</td>\n",
       "      <td>2024-08-11</td>\n",
       "      <td>None</td>\n",
       "      <td>active</td>\n",
       "      <td>2024-08-11</td>\n",
       "      <td>2024-09-28</td>\n",
       "    </tr>\n",
       "    <tr>\n",
       "      <th>2</th>\n",
       "      <td>sub_fb1a76b8</td>\n",
       "      <td>cust_0a9a3d5d</td>\n",
       "      <td>premium</td>\n",
       "      <td>monthly</td>\n",
       "      <td>1</td>\n",
       "      <td>2024-09-26</td>\n",
       "      <td>None</td>\n",
       "      <td>active</td>\n",
       "      <td>2024-09-26</td>\n",
       "      <td>2024-11-07</td>\n",
       "    </tr>\n",
       "    <tr>\n",
       "      <th>3</th>\n",
       "      <td>sub_0a4ddfb8</td>\n",
       "      <td>cust_408dbc4b</td>\n",
       "      <td>personal</td>\n",
       "      <td>monthly</td>\n",
       "      <td>1</td>\n",
       "      <td>2024-05-26</td>\n",
       "      <td>None</td>\n",
       "      <td>active</td>\n",
       "      <td>2024-05-26</td>\n",
       "      <td>2024-12-30</td>\n",
       "    </tr>\n",
       "    <tr>\n",
       "      <th>4</th>\n",
       "      <td>sub_7a4d54e9</td>\n",
       "      <td>cust_7c6b02b2</td>\n",
       "      <td>premium</td>\n",
       "      <td>monthly</td>\n",
       "      <td>1</td>\n",
       "      <td>2024-07-06</td>\n",
       "      <td>None</td>\n",
       "      <td>active</td>\n",
       "      <td>2024-07-06</td>\n",
       "      <td>2024-12-02</td>\n",
       "    </tr>\n",
       "    <tr>\n",
       "      <th>...</th>\n",
       "      <td>...</td>\n",
       "      <td>...</td>\n",
       "      <td>...</td>\n",
       "      <td>...</td>\n",
       "      <td>...</td>\n",
       "      <td>...</td>\n",
       "      <td>...</td>\n",
       "      <td>...</td>\n",
       "      <td>...</td>\n",
       "      <td>...</td>\n",
       "    </tr>\n",
       "    <tr>\n",
       "      <th>1191</th>\n",
       "      <td>sub_762b103b</td>\n",
       "      <td>cust_a2f84162</td>\n",
       "      <td>business</td>\n",
       "      <td>monthly</td>\n",
       "      <td>95</td>\n",
       "      <td>2024-07-21</td>\n",
       "      <td>None</td>\n",
       "      <td>active</td>\n",
       "      <td>2024-07-21</td>\n",
       "      <td>2024-11-19</td>\n",
       "    </tr>\n",
       "    <tr>\n",
       "      <th>1192</th>\n",
       "      <td>sub_71768fd8</td>\n",
       "      <td>cust_afcce1cd</td>\n",
       "      <td>business</td>\n",
       "      <td>monthly</td>\n",
       "      <td>1753</td>\n",
       "      <td>2024-01-09</td>\n",
       "      <td>2024-05-31</td>\n",
       "      <td>churned</td>\n",
       "      <td>2024-01-09</td>\n",
       "      <td>2024-06-18</td>\n",
       "    </tr>\n",
       "    <tr>\n",
       "      <th>1193</th>\n",
       "      <td>sub_ece68b01</td>\n",
       "      <td>cust_441e05f1</td>\n",
       "      <td>enterprise</td>\n",
       "      <td>annual</td>\n",
       "      <td>188</td>\n",
       "      <td>2024-09-22</td>\n",
       "      <td>2024-12-13</td>\n",
       "      <td>churned</td>\n",
       "      <td>2024-09-22</td>\n",
       "      <td>2024-10-17</td>\n",
       "    </tr>\n",
       "    <tr>\n",
       "      <th>1194</th>\n",
       "      <td>sub_2b1811b4</td>\n",
       "      <td>cust_5aa5926c</td>\n",
       "      <td>business</td>\n",
       "      <td>annual</td>\n",
       "      <td>143</td>\n",
       "      <td>2024-07-03</td>\n",
       "      <td>None</td>\n",
       "      <td>active</td>\n",
       "      <td>2024-07-03</td>\n",
       "      <td>2024-09-08</td>\n",
       "    </tr>\n",
       "    <tr>\n",
       "      <th>1195</th>\n",
       "      <td>sub_37b2d93f</td>\n",
       "      <td>cust_e507f7af</td>\n",
       "      <td>team</td>\n",
       "      <td>monthly</td>\n",
       "      <td>311</td>\n",
       "      <td>2024-06-12</td>\n",
       "      <td>None</td>\n",
       "      <td>active</td>\n",
       "      <td>2024-06-12</td>\n",
       "      <td>2024-12-01</td>\n",
       "    </tr>\n",
       "  </tbody>\n",
       "</table>\n",
       "<p>1196 rows × 10 columns</p>\n",
       "</div>"
      ],
      "text/plain": [
       "     subscription_id    customer_id     plan_id billing_cycle  user_count  \\\n",
       "0       sub_83cefbca  cust_3f380b72    business        annual         915   \n",
       "1       sub_bc8e8bfd  cust_78e35adb  enterprise       monthly         408   \n",
       "2       sub_fb1a76b8  cust_0a9a3d5d     premium       monthly           1   \n",
       "3       sub_0a4ddfb8  cust_408dbc4b    personal       monthly           1   \n",
       "4       sub_7a4d54e9  cust_7c6b02b2     premium       monthly           1   \n",
       "...              ...            ...         ...           ...         ...   \n",
       "1191    sub_762b103b  cust_a2f84162    business       monthly          95   \n",
       "1192    sub_71768fd8  cust_afcce1cd    business       monthly        1753   \n",
       "1193    sub_ece68b01  cust_441e05f1  enterprise        annual         188   \n",
       "1194    sub_2b1811b4  cust_5aa5926c    business        annual         143   \n",
       "1195    sub_37b2d93f  cust_e507f7af        team       monthly         311   \n",
       "\n",
       "      start_date    end_date   status  created_at  updated_at  \n",
       "0     2024-07-27        None   active  2024-07-27  2024-12-28  \n",
       "1     2024-08-11        None   active  2024-08-11  2024-09-28  \n",
       "2     2024-09-26        None   active  2024-09-26  2024-11-07  \n",
       "3     2024-05-26        None   active  2024-05-26  2024-12-30  \n",
       "4     2024-07-06        None   active  2024-07-06  2024-12-02  \n",
       "...          ...         ...      ...         ...         ...  \n",
       "1191  2024-07-21        None   active  2024-07-21  2024-11-19  \n",
       "1192  2024-01-09  2024-05-31  churned  2024-01-09  2024-06-18  \n",
       "1193  2024-09-22  2024-12-13  churned  2024-09-22  2024-10-17  \n",
       "1194  2024-07-03        None   active  2024-07-03  2024-09-08  \n",
       "1195  2024-06-12        None   active  2024-06-12  2024-12-01  \n",
       "\n",
       "[1196 rows x 10 columns]"
      ]
     },
     "execution_count": 14,
     "metadata": {},
     "output_type": "execute_result"
    }
   ],
   "source": [
    "subscriptions_df.head(-4)"
   ]
  },
  {
   "cell_type": "code",
   "execution_count": 15,
   "id": "7d285358",
   "metadata": {},
   "outputs": [
    {
     "data": {
      "text/plain": [
       "end_date\n",
       "2024-12-30    8\n",
       "2024-12-09    6\n",
       "2024-12-17    6\n",
       "2024-12-29    5\n",
       "2024-10-22    5\n",
       "             ..\n",
       "2024-09-08    1\n",
       "2024-08-26    1\n",
       "2024-10-07    1\n",
       "2024-06-10    1\n",
       "2024-12-12    1\n",
       "Name: count, Length: 139, dtype: int64"
      ]
     },
     "execution_count": 15,
     "metadata": {},
     "output_type": "execute_result"
    }
   ],
   "source": [
    "subscriptions_df['end_date'].value_counts()"
   ]
  },
  {
   "cell_type": "code",
   "execution_count": 16,
   "id": "20885907",
   "metadata": {},
   "outputs": [
    {
     "name": "stdout",
     "output_type": "stream",
     "text": [
      "Generating invoices data...\n"
     ]
    }
   ],
   "source": [
    "# 4. INVOICES\n",
    "print(\"Generating invoices data...\")\n",
    "invoices = []\n",
    "invoice_statuses = ['draft', 'sent', 'paid', 'overdue', 'cancelled']"
   ]
  },
  {
   "cell_type": "code",
   "execution_count": 17,
   "id": "52dfa8f6",
   "metadata": {},
   "outputs": [
    {
     "data": {
      "text/plain": [
       "datetime.date"
      ]
     },
     "execution_count": 17,
     "metadata": {},
     "output_type": "execute_result"
    }
   ],
   "source": [
    "type(subscription['end_date'])"
   ]
  },
  {
   "cell_type": "code",
   "execution_count": 18,
   "id": "9f98a312",
   "metadata": {},
   "outputs": [],
   "source": [
    "for _, subscription in subscriptions_df.iterrows():\n",
    "    # Generate invoices for each subscription\n",
    "    current_date = subscription['start_date']\n",
    "#    end_date = subscription['end_date'] if subscription['end_date'] else END_DATE\n",
    "    end_date = subscription['end_date'] if subscription['end_date'] else END_DATE\n",
    "    \n",
    "    billing_frequency = 12 if subscription['billing_cycle'] == 'monthly' else 1\n",
    "    days_between_invoices = 30 if subscription['billing_cycle'] == 'monthly' else 365\n",
    "\n",
    "    #    while current_date <= end_date:\n",
    "    while current_date <= end_date:\n",
    "        plan_info = plans_df[plans_df['plan_id'] == subscription['plan_id']].iloc[0]\n",
    "        \n",
    "        if subscription['billing_cycle'] == 'monthly':\n",
    "            amount = plan_info['price_monthly'] * subscription['user_count']\n",
    "        else:\n",
    "            amount = plan_info['price_annual'] * subscription['user_count']\n",
    "        \n",
    "        # Add some random discounts\n",
    "        discount_percent = random.choices([0, 10, 20, 25], weights=[0.7, 0.15, 0.1, 0.05])[0]\n",
    "        discount_amount = amount * (discount_percent / 100)\n",
    "        final_amount = amount - discount_amount\n",
    "        \n",
    "        # Determine invoice status\n",
    "        if current_date < datetime.now().date() - timedelta(days=60):\n",
    "            status = random.choices(['paid', 'overdue'], weights=[0.95, 0.05])[0]\n",
    "        elif current_date < datetime.now().date() - timedelta(days=30):\n",
    "            status = random.choices(['paid', 'sent', 'overdue'], weights=[0.9, 0.08, 0.02])[0]\n",
    "        else:\n",
    "            status = random.choices(['paid', 'sent', 'draft'], weights=[0.7, 0.25, 0.05])[0]\n",
    "        \n",
    "        paid_date = None\n",
    "        if status == 'paid':\n",
    "            paid_date = current_date + timedelta(days=random.randint(1, 30))\n",
    "        \n",
    "        invoice = {\n",
    "            'invoice_id': f\"inv_{str(uuid.uuid4())[:8]}\",\n",
    "            'subscription_id': subscription['subscription_id'],\n",
    "            'customer_id': subscription['customer_id'],\n",
    "            'invoice_date': current_date,\n",
    "            'due_date': current_date + timedelta(days=30),\n",
    "            'paid_date': paid_date,\n",
    "            'amount': amount,\n",
    "            'discount_amount': discount_amount,\n",
    "            'final_amount': final_amount,\n",
    "            'status': status,\n",
    "            'billing_period_start': current_date,\n",
    "            'billing_period_end': current_date + timedelta(days=days_between_invoices-1),\n",
    "            'created_at': current_date\n",
    "        }\n",
    "        invoices.append(invoice)\n",
    "        \n",
    "        # Move to next billing period\n",
    "        current_date += timedelta(days=days_between_invoices)"
   ]
  },
  {
   "cell_type": "code",
   "execution_count": 19,
   "id": "5c356229",
   "metadata": {},
   "outputs": [],
   "source": [
    "invoices_df = pd.DataFrame(invoices)"
   ]
  },
  {
   "cell_type": "code",
   "execution_count": null,
   "id": "00c9ba88",
   "metadata": {},
   "outputs": [],
   "source": []
  },
  {
   "cell_type": "code",
   "execution_count": 20,
   "id": "4d8ec0d5",
   "metadata": {},
   "outputs": [
    {
     "name": "stdout",
     "output_type": "stream",
     "text": [
      "Generating payments data...\n"
     ]
    }
   ],
   "source": [
    "# 5. PAYMENTS (Stripe-like data)\n",
    "print(\"Generating payments data...\")\n",
    "payments = []\n",
    "payment_methods = ['card', 'ach', 'wire_transfer']"
   ]
  },
  {
   "cell_type": "code",
   "execution_count": 21,
   "id": "be834b5e",
   "metadata": {},
   "outputs": [],
   "source": [
    "for _, invoice in invoices_df[invoices_df['status'] == 'paid'].iterrows():\n",
    "    payment = {\n",
    "        'payment_id': f\"pay_{str(uuid.uuid4())[:8]}\",\n",
    "        'invoice_id': invoice['invoice_id'],\n",
    "        'customer_id': invoice['customer_id'],\n",
    "        'amount': invoice['final_amount'],\n",
    "        'currency': 'USD',\n",
    "        'payment_method': random.choice(payment_methods),\n",
    "        'payment_date': invoice['paid_date'],\n",
    "        'stripe_charge_id': f\"ch_{str(uuid.uuid4())[:16]}\",\n",
    "        'status': 'succeeded',\n",
    "        'created_at': invoice['paid_date']\n",
    "    }\n",
    "    payments.append(payment)"
   ]
  },
  {
   "cell_type": "code",
   "execution_count": 22,
   "id": "a0a43cfd",
   "metadata": {},
   "outputs": [],
   "source": [
    "payments_df = pd.DataFrame(payments)"
   ]
  },
  {
   "cell_type": "code",
   "execution_count": null,
   "id": "e7ccbc28",
   "metadata": {},
   "outputs": [],
   "source": []
  },
  {
   "cell_type": "code",
   "execution_count": 23,
   "id": "18729aa4",
   "metadata": {},
   "outputs": [
    {
     "name": "stdout",
     "output_type": "stream",
     "text": [
      "Generating usage data...\n"
     ]
    }
   ],
   "source": [
    "# 6. USAGE DATA (for potential usage-based billing)\n",
    "print(\"Generating usage data...\")\n",
    "usage_data = []"
   ]
  },
  {
   "cell_type": "code",
   "execution_count": 24,
   "id": "3e470a1f",
   "metadata": {},
   "outputs": [],
   "source": [
    "for _, subscription in subscriptions_df.iterrows():\n",
    "    # Generate monthly usage data\n",
    "    current_date = subscription['start_date'].replace(day=1)  # Start of month\n",
    "    end_date = subscription['end_date'] if subscription['end_date'] else END_DATE\n",
    "    \n",
    "    while current_date <= end_date:\n",
    "        # Simulate device connections, data transfer, etc.\n",
    "        base_devices = subscription['user_count'] * random.uniform(1.2, 3.5)\n",
    "        devices_connected = max(1, int(base_devices * random.uniform(0.7, 1.3)))\n",
    "        \n",
    "        usage = {\n",
    "            'usage_id': f\"usage_{str(uuid.uuid4())[:8]}\",\n",
    "            'subscription_id': subscription['subscription_id'],\n",
    "            'customer_id': subscription['customer_id'],\n",
    "            'month': current_date,\n",
    "            'devices_connected': devices_connected,\n",
    "            'data_transfer_gb': round(devices_connected * random.uniform(10, 500), 2),\n",
    "            'active_users': min(subscription['user_count'], devices_connected),\n",
    "            'connection_hours': round(devices_connected * random.uniform(100, 500), 2),\n",
    "            'created_at': current_date + timedelta(days=random.randint(1, 5))\n",
    "        }\n",
    "        usage_data.append(usage)\n",
    "        \n",
    "        # Move to next month\n",
    "        if current_date.month == 12:\n",
    "            current_date = current_date.replace(year=current_date.year + 1, month=1)\n",
    "        else:\n",
    "            current_date = current_date.replace(month=current_date.month + 1)"
   ]
  },
  {
   "cell_type": "code",
   "execution_count": 25,
   "id": "6e5e1a6b",
   "metadata": {},
   "outputs": [],
   "source": [
    "usage_df = pd.DataFrame(usage_data)"
   ]
  },
  {
   "cell_type": "code",
   "execution_count": null,
   "id": "5a042829",
   "metadata": {},
   "outputs": [],
   "source": []
  },
  {
   "cell_type": "code",
   "execution_count": 26,
   "id": "0d8ab5ea",
   "metadata": {},
   "outputs": [
    {
     "name": "stdout",
     "output_type": "stream",
     "text": [
      "Generating sales opportunities data...\n"
     ]
    }
   ],
   "source": [
    "# 7. SALESFORCE-like OPPORTUNITIES\n",
    "print(\"Generating sales opportunities data...\")\n",
    "opportunities = []\n",
    "opp_stages = ['Prospecting', 'Qualification', 'Proposal', 'Negotiation', 'Closed Won', 'Closed Lost']\n",
    "lead_sources = ['Inbound', 'Outbound', 'Referral', 'Event', 'Partner']"
   ]
  },
  {
   "cell_type": "code",
   "execution_count": 27,
   "id": "971c1a13",
   "metadata": {},
   "outputs": [],
   "source": [
    "for i in range(200):  # Generate 200 opportunities\n",
    "    customer_id = random.choice(customers_df['customer_id'].tolist())\n",
    "    created_date = fake.date_between(START_DATE, END_DATE)\n",
    "    \n",
    "    # Determine stage and close date\n",
    "    stage = random.choices(opp_stages, weights=[0.1, 0.15, 0.2, 0.15, 0.25, 0.15])[0]\n",
    "    \n",
    "    if stage in ['Closed Won', 'Closed Lost']:\n",
    "        close_date = fake.date_between(created_date, END_DATE)\n",
    "    else:\n",
    "        close_date = None\n",
    "    \n",
    "    # Estimate deal size based on customer size\n",
    "    customer_size = customers_df[customers_df['customer_id'] == customer_id]['company_size'].iloc[0]\n",
    "    if customer_size == '1-10':\n",
    "        deal_value = random.randint(500, 5000)\n",
    "    elif customer_size == '11-50':\n",
    "        deal_value = random.randint(2000, 25000)\n",
    "    elif customer_size == '51-200':\n",
    "        deal_value = random.randint(10000, 100000)\n",
    "    elif customer_size == '201-1000':\n",
    "        deal_value = random.randint(50000, 500000)\n",
    "    else:\n",
    "        deal_value = random.randint(100000, 2000000)\n",
    "    \n",
    "    opportunity = {\n",
    "        'opportunity_id': f\"opp_{str(uuid.uuid4())[:8]}\",\n",
    "        'customer_id': customer_id,\n",
    "        'opportunity_name': f\"{customers_df[customers_df['customer_id'] == customer_id]['company_name'].iloc[0]} - Tailscale\",\n",
    "        'stage': stage,\n",
    "        'lead_source': random.choice(lead_sources),\n",
    "        'deal_value': deal_value,\n",
    "        'probability': random.randint(10, 90) if stage not in ['Closed Won', 'Closed Lost'] else (100 if stage == 'Closed Won' else 0),\n",
    "        'created_date': created_date,\n",
    "        'close_date': close_date,\n",
    "        'sales_rep': fake.name()\n",
    "    }\n",
    "    opportunities.append(opportunity)"
   ]
  },
  {
   "cell_type": "code",
   "execution_count": 28,
   "id": "5b903644",
   "metadata": {},
   "outputs": [],
   "source": [
    "opportunities_df = pd.DataFrame(opportunities)"
   ]
  },
  {
   "cell_type": "code",
   "execution_count": null,
   "id": "29aafe67",
   "metadata": {},
   "outputs": [],
   "source": []
  },
  {
   "cell_type": "code",
   "execution_count": 29,
   "id": "d0593d4d",
   "metadata": {},
   "outputs": [
    {
     "name": "stdout",
     "output_type": "stream",
     "text": [
      "\n",
      "Dataset Summary:\n",
      "==================================================\n",
      "Customers: 1,000\n",
      "Subscriptions: 1,200\n",
      "Active Subscriptions: 942\n",
      "Invoices: 4,520\n",
      "Payments: 4,290\n",
      "Usage Records: 7,882\n",
      "Opportunities: 200\n"
     ]
    }
   ],
   "source": [
    "# Display summary statistics\n",
    "print(\"\\nDataset Summary:\")\n",
    "print(\"=\" * 50)\n",
    "print(f\"Customers: {len(customers_df):,}\")\n",
    "print(f\"Subscriptions: {len(subscriptions_df):,}\")\n",
    "print(f\"Active Subscriptions: {len(subscriptions_df[subscriptions_df['status'] == 'active']):,}\")\n",
    "print(f\"Invoices: {len(invoices_df):,}\")\n",
    "print(f\"Payments: {len(payments_df):,}\")\n",
    "print(f\"Usage Records: {len(usage_df):,}\")\n",
    "print(f\"Opportunities: {len(opportunities_df):,}\")"
   ]
  },
  {
   "cell_type": "code",
   "execution_count": 30,
   "id": "2131256e",
   "metadata": {},
   "outputs": [
    {
     "name": "stdout",
     "output_type": "stream",
     "text": [
      "\n",
      "Key Metrics:\n",
      "Total Revenue: $72,333,698.40\n",
      "Average Deal Size: $16,861.00\n"
     ]
    }
   ],
   "source": [
    "# Calculate some key metrics\n",
    "total_revenue = payments_df['amount'].sum()\n",
    "print(f\"\\nKey Metrics:\")\n",
    "print(f\"Total Revenue: ${total_revenue:,.2f}\")\n",
    "print(f\"Average Deal Size: ${total_revenue/len(payments_df):,.2f}\")"
   ]
  },
  {
   "cell_type": "code",
   "execution_count": 31,
   "id": "f74bc045",
   "metadata": {},
   "outputs": [
    {
     "name": "stdout",
     "output_type": "stream",
     "text": [
      "\n",
      "Saving datasets to CSV files...\n"
     ]
    }
   ],
   "source": [
    "# Save datasets to CSV files\n",
    "print(\"\\nSaving datasets to CSV files...\")\n",
    "customers_df.to_csv('customers.csv', index=False)\n",
    "plans_df.to_csv('subscription_plans.csv', index=False)\n",
    "subscriptions_df.to_csv('subscriptions.csv', index=False)\n",
    "invoices_df.to_csv('invoices.csv', index=False)\n",
    "payments_df.to_csv('payments.csv', index=False)\n",
    "usage_df.to_csv('usage_data.csv', index=False)\n",
    "opportunities_df.to_csv('opportunities.csv', index=False)"
   ]
  },
  {
   "cell_type": "code",
   "execution_count": 32,
   "id": "eb8f3624",
   "metadata": {},
   "outputs": [
    {
     "name": "stdout",
     "output_type": "stream",
     "text": [
      "✅ All datasets generated and saved!\n",
      "\n",
      "Files created:\n",
      "- customers.csv\n",
      "- subscription_plans.csv\n",
      "- subscriptions.csv\n",
      "- invoices.csv\n",
      "- payments.csv\n",
      "- usage_data.csv\n",
      "- opportunities.csv\n"
     ]
    }
   ],
   "source": [
    "print(\"✅ All datasets generated and saved!\")\n",
    "print(\"\\nFiles created:\")\n",
    "print(\"- customers.csv\")\n",
    "print(\"- subscription_plans.csv\") \n",
    "print(\"- subscriptions.csv\")\n",
    "print(\"- invoices.csv\")\n",
    "print(\"- payments.csv\")\n",
    "print(\"- usage_data.csv\")\n",
    "print(\"- opportunities.csv\")"
   ]
  },
  {
   "cell_type": "code",
   "execution_count": 33,
   "id": "c62f5142",
   "metadata": {},
   "outputs": [
    {
     "name": "stdout",
     "output_type": "stream",
     "text": [
      "\n",
      "============================================================\n",
      "SAMPLE DATA PREVIEW\n",
      "============================================================\n"
     ]
    }
   ],
   "source": [
    "# Display sample data from each table\n",
    "print(\"\\n\" + \"=\"*60)\n",
    "print(\"SAMPLE DATA PREVIEW\")\n",
    "print(\"=\"*60)"
   ]
  },
  {
   "cell_type": "code",
   "execution_count": 34,
   "id": "18845da1",
   "metadata": {},
   "outputs": [
    {
     "name": "stdout",
     "output_type": "stream",
     "text": [
      "\n",
      "📊 CUSTOMERS (first 3 rows):\n",
      "  customer_id                    company_name company_size company_type   industry country created_at acquisition_channel  is_active\n",
      "cust_acd87ed1 Rodriguez, Figueroa and Sanchez         1-10      Startup     Retail      CU 2024-10-13   Content Marketing       True\n",
      "cust_3e0ebba3                      Rhodes PLC        11-50      Startup     Retail      BT 2024-08-17             Partner      False\n",
      "cust_ed1dd98a                   Johnson-Davis         1-10   Enterprise Technology      HT 2024-07-15             Organic       True\n"
     ]
    }
   ],
   "source": [
    "print(\"\\n📊 CUSTOMERS (first 3 rows):\")\n",
    "print(customers_df.head(3).to_string(index=False))"
   ]
  },
  {
   "cell_type": "code",
   "execution_count": 35,
   "id": "8e19d91f",
   "metadata": {},
   "outputs": [
    {
     "name": "stdout",
     "output_type": "stream",
     "text": [
      "\n",
      "📋 SUBSCRIPTION PLANS:\n",
      "   plan_id  plan_name  price_monthly  price_annual  max_devices\n",
      "  personal   Personal              0             0           20\n",
      "   premium    Premium              6            60          100\n",
      "      team       Team              6            60          100\n",
      "  business   Business             18           180          200\n",
      "enterprise Enterprise             48           480         1000\n"
     ]
    }
   ],
   "source": [
    "print(\"\\n📋 SUBSCRIPTION PLANS:\")\n",
    "print(plans_df.to_string(index=False))"
   ]
  },
  {
   "cell_type": "code",
   "execution_count": 36,
   "id": "46d2d865",
   "metadata": {},
   "outputs": [
    {
     "name": "stdout",
     "output_type": "stream",
     "text": [
      "\n",
      "💳 SUBSCRIPTIONS (first 3 rows):\n",
      "subscription_id   customer_id    plan_id billing_cycle  user_count start_date end_date status created_at updated_at\n",
      "   sub_83cefbca cust_3f380b72   business        annual         915 2024-07-27     None active 2024-07-27 2024-12-28\n",
      "   sub_bc8e8bfd cust_78e35adb enterprise       monthly         408 2024-08-11     None active 2024-08-11 2024-09-28\n",
      "   sub_fb1a76b8 cust_0a9a3d5d    premium       monthly           1 2024-09-26     None active 2024-09-26 2024-11-07\n"
     ]
    }
   ],
   "source": [
    "print(\"\\n💳 SUBSCRIPTIONS (first 3 rows):\")\n",
    "print(subscriptions_df.head(3).to_string(index=False))"
   ]
  },
  {
   "cell_type": "code",
   "execution_count": 37,
   "id": "af5f8428",
   "metadata": {},
   "outputs": [
    {
     "name": "stdout",
     "output_type": "stream",
     "text": [
      "\n",
      "🧾 INVOICES (first 3 rows):\n",
      "  invoice_id subscription_id   customer_id invoice_date   due_date  paid_date  amount  discount_amount  final_amount status billing_period_start billing_period_end created_at\n",
      "inv_10bfa453    sub_83cefbca cust_3f380b72   2024-07-27 2024-08-26 2024-07-29  164700          16470.0      148230.0   paid           2024-07-27         2025-07-26 2024-07-27\n",
      "inv_18da6ee3    sub_bc8e8bfd cust_78e35adb   2024-08-11 2024-09-10 2024-08-27   19584           3916.8       15667.2   paid           2024-08-11         2024-09-09 2024-08-11\n",
      "inv_71c67e3f    sub_bc8e8bfd cust_78e35adb   2024-09-10 2024-10-10 2024-10-07   19584           4896.0       14688.0   paid           2024-09-10         2024-10-09 2024-09-10\n"
     ]
    }
   ],
   "source": [
    "print(\"\\n🧾 INVOICES (first 3 rows):\")\n",
    "print(invoices_df.head(3).to_string(index=False))"
   ]
  },
  {
   "cell_type": "code",
   "execution_count": 38,
   "id": "a7052be3",
   "metadata": {},
   "outputs": [
    {
     "name": "stdout",
     "output_type": "stream",
     "text": [
      "\n",
      "💰 PAYMENTS (first 3 rows):\n",
      "  payment_id   invoice_id   customer_id   amount currency payment_method payment_date    stripe_charge_id    status created_at\n",
      "pay_36e1672f inv_10bfa453 cust_3f380b72 148230.0      USD            ach   2024-07-29 ch_fa75f3ec-d6e8-4d succeeded 2024-07-29\n",
      "pay_25419bce inv_18da6ee3 cust_78e35adb  15667.2      USD           card   2024-08-27 ch_b7040529-c24f-45 succeeded 2024-08-27\n",
      "pay_9743a11f inv_71c67e3f cust_78e35adb  14688.0      USD           card   2024-10-07 ch_cbd68e13-9f9e-4e succeeded 2024-10-07\n"
     ]
    }
   ],
   "source": [
    "print(\"\\n💰 PAYMENTS (first 3 rows):\")\n",
    "print(payments_df.head(3).to_string(index=False))"
   ]
  },
  {
   "cell_type": "code",
   "execution_count": 39,
   "id": "c0e47362",
   "metadata": {},
   "outputs": [
    {
     "name": "stdout",
     "output_type": "stream",
     "text": [
      "\n",
      "📈 USAGE DATA (first 3 rows):\n",
      "      usage_id subscription_id   customer_id      month  devices_connected  data_transfer_gb  active_users  connection_hours created_at\n",
      "usage_10b7c08f    sub_83cefbca cust_3f380b72 2024-07-01               2901         339524.63           915        1252211.71 2024-07-04\n",
      "usage_6314faff    sub_83cefbca cust_3f380b72 2024-08-01               2116         776809.19           915        1055305.78 2024-08-04\n",
      "usage_945b7df7    sub_83cefbca cust_3f380b72 2024-09-01               2100          45468.79           915         818210.17 2024-09-04\n"
     ]
    }
   ],
   "source": [
    "print(\"\\n📈 USAGE DATA (first 3 rows):\")\n",
    "print(usage_df.head(3).to_string(index=False))"
   ]
  },
  {
   "cell_type": "code",
   "execution_count": 40,
   "id": "f906a735",
   "metadata": {},
   "outputs": [
    {
     "name": "stdout",
     "output_type": "stream",
     "text": [
      "\n",
      "🎯 OPPORTUNITIES (first 3 rows):\n",
      "opportunity_id   customer_id                       opportunity_name       stage lead_source  deal_value  probability created_date close_date     sales_rep\n",
      "  opp_8b9d0896 cust_f886f85d  Bush, Holland and Fischer - Tailscale Negotiation    Outbound       52105           44   2024-09-07       None  Kenneth Rios\n",
      "  opp_86afa2c9 cust_6495d7d6                    Cox LLC - Tailscale Negotiation     Inbound     1572573           64   2024-11-01       None   Kevin Terry\n",
      "  opp_78e6b8ae cust_d50dd54e Griffin, Moore and Hensley - Tailscale  Closed Won    Outbound     1362387          100   2024-11-22 2024-12-18 Eric Anderson\n"
     ]
    }
   ],
   "source": [
    "print(\"\\n🎯 OPPORTUNITIES (first 3 rows):\")\n",
    "print(opportunities_df.head(3).to_string(index=False))"
   ]
  },
  {
   "cell_type": "code",
   "execution_count": 41,
   "id": "23f977e8",
   "metadata": {},
   "outputs": [
    {
     "name": "stdout",
     "output_type": "stream",
     "text": [
      "\n",
      "============================================================\n",
      "SUGGESTED DBT MODEL STRUCTURE FOR PRACTICE\n",
      "============================================================\n"
     ]
    }
   ],
   "source": [
    "print(\"\\n\" + \"=\"*60)\n",
    "print(\"SUGGESTED DBT MODEL STRUCTURE FOR PRACTICE\")\n",
    "print(\"=\"*60)"
   ]
  },
  {
   "cell_type": "code",
   "execution_count": 42,
   "id": "e0345446",
   "metadata": {},
   "outputs": [],
   "source": [
    "dbt_suggestions = \"\"\"\n",
    "Suggested dbt models to build with this data:\n",
    "\n",
    "STAGING MODELS (stg_):\n",
    "- stg_customers.sql\n",
    "- stg_subscriptions.sql  \n",
    "- stg_invoices.sql\n",
    "- stg_payments.sql\n",
    "- stg_usage_data.sql\n",
    "- stg_opportunities.sql\n",
    "\n",
    "INTERMEDIATE MODELS (int_):\n",
    "- int_subscription_metrics.sql (MRR, churn calculations)\n",
    "- int_customer_lifecycle.sql (acquisition, expansion, churn events)\n",
    "- int_revenue_recognition.sql (deferred revenue calculations)\n",
    "\n",
    "MART MODELS (fct_ and dim_):\n",
    "- dim_customers.sql\n",
    "- dim_subscriptions.sql\n",
    "- fct_revenue_monthly.sql\n",
    "- fct_arr_movements.sql\n",
    "- fct_customer_metrics.sql\n",
    "\n",
    "BUSINESS LOGIC TO IMPLEMENT:\n",
    "- Monthly Recurring Revenue (MRR) calculations\n",
    "- Annual Recurring Revenue (ARR) tracking\n",
    "- Customer cohort analysis\n",
    "- Churn rate calculations\n",
    "- Revenue recognition (deferred revenue)\n",
    "- Customer Lifetime Value (CLV)\n",
    "- Net Revenue Retention (NRR)\n",
    "- Gross Revenue Retention (GRR)\n",
    "\n",
    "This dataset mimics the complexity you'd find at a SaaS company like Tailscale,\n",
    "with subscription billing, usage tracking, and sales pipeline data.\n",
    "\"\"\""
   ]
  },
  {
   "cell_type": "code",
   "execution_count": 43,
   "id": "5ae39bfa",
   "metadata": {},
   "outputs": [
    {
     "name": "stdout",
     "output_type": "stream",
     "text": [
      "\n",
      "Suggested dbt models to build with this data:\n",
      "\n",
      "STAGING MODELS (stg_):\n",
      "- stg_customers.sql\n",
      "- stg_subscriptions.sql  \n",
      "- stg_invoices.sql\n",
      "- stg_payments.sql\n",
      "- stg_usage_data.sql\n",
      "- stg_opportunities.sql\n",
      "\n",
      "INTERMEDIATE MODELS (int_):\n",
      "- int_subscription_metrics.sql (MRR, churn calculations)\n",
      "- int_customer_lifecycle.sql (acquisition, expansion, churn events)\n",
      "- int_revenue_recognition.sql (deferred revenue calculations)\n",
      "\n",
      "MART MODELS (fct_ and dim_):\n",
      "- dim_customers.sql\n",
      "- dim_subscriptions.sql\n",
      "- fct_revenue_monthly.sql\n",
      "- fct_arr_movements.sql\n",
      "- fct_customer_metrics.sql\n",
      "\n",
      "BUSINESS LOGIC TO IMPLEMENT:\n",
      "- Monthly Recurring Revenue (MRR) calculations\n",
      "- Annual Recurring Revenue (ARR) tracking\n",
      "- Customer cohort analysis\n",
      "- Churn rate calculations\n",
      "- Revenue recognition (deferred revenue)\n",
      "- Customer Lifetime Value (CLV)\n",
      "- Net Revenue Retention (NRR)\n",
      "- Gross Revenue Retention (GRR)\n",
      "\n",
      "This dataset mimics the complexity you'd find at a SaaS company like Tailscale,\n",
      "with subscription billing, usage tracking, and sales pipeline data.\n",
      "\n"
     ]
    }
   ],
   "source": [
    "print(dbt_suggestions)"
   ]
  }
 ],
 "metadata": {
  "jupytext": {
   "cell_metadata_filter": "-all",
   "main_language": "python",
   "notebook_metadata_filter": "-all"
  },
  "kernelspec": {
   "display_name": "Python 3 (ipykernel)",
   "language": "python",
   "name": "python3"
  },
  "language_info": {
   "codemirror_mode": {
    "name": "ipython",
    "version": 3
   },
   "file_extension": ".py",
   "mimetype": "text/x-python",
   "name": "python",
   "nbconvert_exporter": "python",
   "pygments_lexer": "ipython3",
   "version": "3.11.5"
  }
 },
 "nbformat": 4,
 "nbformat_minor": 5
}
